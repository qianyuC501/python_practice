{
 "cells": [
  {
   "cell_type": "code",
   "execution_count": 10,
   "metadata": {},
   "outputs": [
    {
     "name": "stdout",
     "output_type": "stream",
     "text": [
      "有重复\n"
     ]
    }
   ],
   "source": [
    "'''\n",
    "如果你有一个用户ID列表，你想要找出是否有重复的ID，你会怎么做？试着描述一下你的思路。\n",
    "# 假设这是我们的用户ID列表\n",
    "user_ids = [1, 2, 3, 2, 4, 5]\n",
    "'''\n",
    "user_ids = [1, 2, 3, 2, 4, 5]\n",
    "unique_user_ids = set(user_ids)\n",
    "\n",
    "if len(unique_user_ids) < len(user_ids):\n",
    "    print(\"有重复\")\n",
    "else: \n",
    "    print(\"米雨\")\n"
   ]
  },
  {
   "cell_type": "code",
   "execution_count": 16,
   "metadata": {},
   "outputs": [
    {
     "name": "stdout",
     "output_type": "stream",
     "text": [
      "yes\n",
      "这个字典的keys是dict_keys([1, 2, 3])\n",
      "这个字典的values是dict_values(['user1@example.com', 'user2@example.com', 'user3@example.com'])\n",
      "yes\n"
     ]
    }
   ],
   "source": [
    "'''\n",
    "如果你有一个存储了用户信息的字典，键是用户的ID，\n",
    "值是用户的电子邮件地址，你如何检查特定的ID是否存在于这个字典中？\n",
    "'''\n",
    "user_emails = {\n",
    "    1: 'user1@example.com',\n",
    "    2: 'user2@example.com',\n",
    "    3: 'user3@example.com'\n",
    "}\n",
    "\n",
    "# 我们要检查的用户ID\n",
    "user_id_to_check = 2\n",
    "\n",
    "if user_id_to_check in user_emails:\n",
    "    print(\"yes\")\n",
    "else:\n",
    "    print(\"no\")\n",
    "\n",
    "\n",
    "print(f'这个字典的keys是{user_emails.keys()}')\n",
    "print(f'这个字典的values是{user_emails.values()}')\n",
    "\n",
    "\n",
    "'''\n",
    "现在我想知道user2@example.com是否存在于这个字典当中\n",
    "\n",
    "'''\n",
    "user_mail_to_check = \"user2@example.com\"\n",
    "\n",
    "if user_mail_to_check in user_emails.values():\n",
    "    print(\"yes\")\n",
    "else:\n",
    "    print(\"no\")\n"
   ]
  },
  {
   "cell_type": "code",
   "execution_count": null,
   "metadata": {},
   "outputs": [],
   "source": [
    "'''\n",
    "能想到在实际应用中，为什么我们需要一个不可变的数据结构吗？在什么情况下元组会比列表更合适\n",
    "'''\n",
    "\n"
   ]
  },
  {
   "cell_type": "code",
   "execution_count": 17,
   "metadata": {},
   "outputs": [
    {
     "name": "stdout",
     "output_type": "stream",
     "text": [
      "Distance between (34.05, -118.25) and (40.71, -74.0): 50.910000000000004\n",
      "Distance between (40.71, -74.0) and (37.77, -122.42): 51.36\n"
     ]
    }
   ],
   "source": [
    "# 测试数据\n",
    "coordinates = [(34.05, -118.25), (40.71, -74.00), (37.77, -122.42)]  # 每个元组表示一个坐标，格式为(纬度, 经度)\n",
    "\n",
    "# 练习函数接口\n",
    "def calculate_distance(coord1, coord2):\n",
    "    \"\"\"\n",
    "    Calculate the simplified distance between two points given as latitude and longitude.\n",
    "\n",
    "    Parameters:\n",
    "    coord1 (tuple): A tuple representing the latitude and longitude of the first point (latitude, longitude).\n",
    "    coord2 (tuple): A tuple representing the latitude and longitude of the second point (latitude, longitude).\n",
    "\n",
    "    Returns:\n",
    "    float: The distance between the two points.\n",
    "    \"\"\"\n",
    "    # 使用简化的距离计算公式：差值的绝对值之和\n",
    "    return distance\n",
    "\n",
    "# Test cases\n",
    "# 计算第一个坐标和第二个坐标之间的距离\n",
    "print(f\"Distance between {coordinates[0]} and {coordinates[1]}: {calculate_distance(coordinates[0], coordinates[1])}\")\n",
    "\n",
    "# 计算第二个坐标和第三个坐标之间的距离\n",
    "print(f\"Distance between {coordinates[1]} and {coordinates[2]}: {calculate_distance(coordinates[1], coordinates[2])}\")\n"
   ]
  },
  {
   "cell_type": "code",
   "execution_count": 52,
   "metadata": {},
   "outputs": [
    {
     "name": "stdout",
     "output_type": "stream",
     "text": [
      "{'C'}\n"
     ]
    }
   ],
   "source": [
    "'''\n",
    "1. 列表：查找共同经过的地点\n",
    "假设我们有多个用户，每个用户都有他们经过的地点列表，我们想要找出所有用户都经过的共同地点。\n",
    "'''\n",
    "def find_common_locations(user_locations):\n",
    "    \"\"\"\n",
    "    Find the common locations that exist in all users' location lists.\n",
    "\n",
    "    Parameters:\n",
    "    user_locations (dict): A dictionary where the keys are user ids and the values are lists of locations (as strings) that the users have visited.\n",
    "\n",
    "    Returns:\n",
    "    list: A list of common locations visited by all users.\n",
    "    \"\"\"\n",
    "    union_location = set()\n",
    "    location_user3 = set()\n",
    "    for user,location in user_locations.items():\n",
    "        if user != 'user3':\n",
    "            union_location.update(location)\n",
    "        else:\n",
    "            location_user3 = set(location)\n",
    "\n",
    "\n",
    "    return  location_user3.difference(union_location)\n",
    "\n",
    "     \n",
    "\n",
    "        \n",
    "\n",
    "# 测试数据\n",
    "user_locations = {\n",
    "    'user1': ['Central Park', 'Times Square', 'Grand Central Station','A'],\n",
    "    'user2': ['Central Park', 'The Statue of Liberty', 'B','Grand Central Station'],\n",
    "    'user3': [ 'Times Square', 'Grand Central Station', 'C', 'The Statue of Liberty'],\n",
    "    'user4': [ 'Times Square', 'Grand Central Station', 'D', 'The Statue of Liberty']\n",
    "}\n",
    "\n",
    "\n",
    "# 测试案例\n",
    "print(find_common_locations(user_locations))  # 应该返回 ['Central Park', 'Grand Central Station']\n"
   ]
  },
  {
   "cell_type": "code",
   "execution_count": 64,
   "metadata": {},
   "outputs": [
    {
     "name": "stdout",
     "output_type": "stream",
     "text": [
      "1 : Central Park\n",
      "2 : Golden Gate Bridge\n",
      "3 : Yosemite National Park\n",
      "4 : Grand Canyon\n"
     ]
    }
   ],
   "source": [
    "'''\n",
    "enumerate()函数\n",
    "练习题：为地标列表创建索引\n",
    "假设你有一个地标的列表，这些地标可能是城市名、公园或其他有兴趣的点。\n",
    "你的任务是打印每个地标及其对应的索引号，索引号从1开始。这可以用于创建地标的编号系统，\n",
    "以便用户可以通过编号引用它们。\n",
    "'''\n",
    "# 假设这是你的地标列表\n",
    "landmarks = [\"Central Park\", \"Golden Gate Bridge\", \"Yosemite National Park\", \"Grand Canyon\"]\n",
    "\n",
    "for index,landmark in enumerate(landmarks,start=1) :\n",
    "    print(f'{index} : {landmark}')"
   ]
  },
  {
   "cell_type": "code",
   "execution_count": 80,
   "metadata": {},
   "outputs": [
    {
     "name": "stdout",
     "output_type": "stream",
     "text": [
      "[2, 4, 6, 8, 10]\n",
      "[3, 4, 5, 6, 7, 8, 9, 10, 11, 12]\n",
      "{'forest': 2, 'mountain': 1, 'plain': 2, 'hill': 1}\n"
     ]
    }
   ],
   "source": [
    "'''\n",
    "列表生成式， 字典生成式， 集合生成式\n",
    "在GIS中，你可能需要生成一个网格的坐标点。\n",
    "假设我们想要生成一个坐标列表，表示一个2D平面上x和y坐标都在0到4范围内的网格点。\n",
    "'''\n",
    "#从给定的数字列表中找出所有的偶数\n",
    "numbers = [1, 2, 3, 4, 5, 6, 7, 8, 9, 10]\n",
    "\n",
    "\n",
    "\n",
    "newlist = [x for x in numbers if x%2==0]\n",
    "print(newlist)\n",
    "\n",
    "list_plus_2 = [x+2 for x in numbers]\n",
    "print(list_plus_2) \n",
    "\n",
    "\n",
    "'''\n",
    "字典生成式例题：计数器\n",
    "背景：在处理GIS数据时，你可能需要计算某些元素的出现次数。\n",
    "比如，你有一系列的地形类型列表，你想要计数每种地形类型出现的次数。\n",
    "\n",
    "'''\n",
    "\n",
    "\n",
    "\n",
    "# 假设这是地形类型的列表\n",
    "terrain_types = ['hill', 'forest', 'plain', 'mountain', 'forest', 'plain']\n",
    "\n",
    "dict_terrain = { terrain_type:terrain_types.count(terrain_type) for terrain_type in set(terrain_types) }\n",
    "print(dict_terrain)"
   ]
  },
  {
   "cell_type": "code",
   "execution_count": 9,
   "metadata": {},
   "outputs": [
    {
     "name": "stdout",
     "output_type": "stream",
     "text": [
      "[2, 4, 6, 8, 10]\n",
      "[1, 4, 9, 16, 25, 36, 49, 64, 81, 100]\n",
      "['Hello', 'World', 'Welcome', 'To', 'Python']\n"
     ]
    },
    {
     "data": {
      "text/plain": [
       "[10, 0, 0, 4, 0, 5, 0]"
      ]
     },
     "execution_count": 9,
     "metadata": {},
     "output_type": "execute_result"
    }
   ],
   "source": [
    "numbers = [1, 2, 3, 4, 5, 6, 7, 8, 9, 10]\n",
    "# 使用列表生成式获取偶数列表\n",
    "list1 = [ x for x in numbers if x%2 == 0]\n",
    "print(list1)\n",
    "# 使用列表生成式生成平方列表\n",
    "list2 = [x**2 for x in numbers]\n",
    "print(list2)\n",
    "\n",
    "words = ['hello', 'world', 'welcome', 'to', 'python']\n",
    "# 使用列表生成式格式化字符串列表 给定一个字符串列表，使用列表生成式将它们格式化成首字母大写。\n",
    "words1 = [x.capitalize() for x in words]\n",
    "print(words1)\n",
    "\n",
    "mixed_numbers = [10, -1, -30, 4, -9, 5, 0]\n",
    "# 使用列表生成式过滤掉负数,使用列表生成式创建一个新的列表，其中只包含原列表的正数,负数显示为0\n",
    "list3 = [x if x>0 else 0 for x in mixed_numbers ] \n",
    "list3"
   ]
  },
  {
   "cell_type": "code",
   "execution_count": null,
   "metadata": {},
   "outputs": [],
   "source": []
  }
 ],
 "metadata": {
  "kernelspec": {
   "display_name": "Python 3",
   "language": "python",
   "name": "python3"
  },
  "language_info": {
   "codemirror_mode": {
    "name": "ipython",
    "version": 3
   },
   "file_extension": ".py",
   "mimetype": "text/x-python",
   "name": "python",
   "nbconvert_exporter": "python",
   "pygments_lexer": "ipython3",
   "version": "3.9.6"
  }
 },
 "nbformat": 4,
 "nbformat_minor": 2
}
