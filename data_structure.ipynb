{
 "cells": [
  {
   "cell_type": "code",
   "execution_count": 10,
   "metadata": {},
   "outputs": [
    {
     "name": "stdout",
     "output_type": "stream",
     "text": [
      "有重复\n"
     ]
    }
   ],
   "source": [
    "'''\n",
    "如果你有一个用户ID列表，你想要找出是否有重复的ID，你会怎么做？试着描述一下你的思路。\n",
    "# 假设这是我们的用户ID列表\n",
    "user_ids = [1, 2, 3, 2, 4, 5]\n",
    "'''\n",
    "user_ids = [1, 2, 3, 2, 4, 5]\n",
    "unique_user_ids = set(user_ids)\n",
    "\n",
    "if len(unique_user_ids) < len(user_ids):\n",
    "    print(\"有重复\")\n",
    "else: \n",
    "    print(\"米雨\")\n"
   ]
  },
  {
   "cell_type": "code",
   "execution_count": 16,
   "metadata": {},
   "outputs": [
    {
     "name": "stdout",
     "output_type": "stream",
     "text": [
      "yes\n",
      "这个字典的keys是dict_keys([1, 2, 3])\n",
      "这个字典的values是dict_values(['user1@example.com', 'user2@example.com', 'user3@example.com'])\n",
      "yes\n"
     ]
    }
   ],
   "source": [
    "'''\n",
    "如果你有一个存储了用户信息的字典，键是用户的ID，\n",
    "值是用户的电子邮件地址，你如何检查特定的ID是否存在于这个字典中？\n",
    "'''\n",
    "user_emails = {\n",
    "    1: 'user1@example.com',\n",
    "    2: 'user2@example.com',\n",
    "    3: 'user3@example.com'\n",
    "}\n",
    "\n",
    "# 我们要检查的用户ID\n",
    "user_id_to_check = 2\n",
    "\n",
    "if user_id_to_check in user_emails:\n",
    "    print(\"yes\")\n",
    "else:\n",
    "    print(\"no\")\n",
    "\n",
    "\n",
    "print(f'这个字典的keys是{user_emails.keys()}')\n",
    "print(f'这个字典的values是{user_emails.values()}')\n",
    "\n",
    "\n",
    "'''\n",
    "现在我想知道user2@example.com是否存在于这个字典当中\n",
    "\n",
    "'''\n",
    "user_mail_to_check = \"user2@example.com\"\n",
    "\n",
    "if user_mail_to_check in user_emails.values():\n",
    "    print(\"yes\")\n",
    "else:\n",
    "    print(\"no\")\n"
   ]
  },
  {
   "cell_type": "code",
   "execution_count": null,
   "metadata": {},
   "outputs": [],
   "source": [
    "'''\n",
    "能想到在实际应用中，为什么我们需要一个不可变的数据结构吗？在什么情况下元组会比列表更合适\n",
    "'''\n",
    "\n"
   ]
  },
  {
   "cell_type": "code",
   "execution_count": 17,
   "metadata": {},
   "outputs": [
    {
     "name": "stdout",
     "output_type": "stream",
     "text": [
      "Distance between (34.05, -118.25) and (40.71, -74.0): 50.910000000000004\n",
      "Distance between (40.71, -74.0) and (37.77, -122.42): 51.36\n"
     ]
    }
   ],
   "source": [
    "# 测试数据\n",
    "coordinates = [(34.05, -118.25), (40.71, -74.00), (37.77, -122.42)]  # 每个元组表示一个坐标，格式为(纬度, 经度)\n",
    "\n",
    "# 练习函数接口\n",
    "def calculate_distance(coord1, coord2):\n",
    "    \"\"\"\n",
    "    Calculate the simplified distance between two points given as latitude and longitude.\n",
    "\n",
    "    Parameters:\n",
    "    coord1 (tuple): A tuple representing the latitude and longitude of the first point (latitude, longitude).\n",
    "    coord2 (tuple): A tuple representing the latitude and longitude of the second point (latitude, longitude).\n",
    "\n",
    "    Returns:\n",
    "    float: The distance between the two points.\n",
    "    \"\"\"\n",
    "    # 使用简化的距离计算公式：差值的绝对值之和\n",
    "    return distance\n",
    "\n",
    "# Test cases\n",
    "# 计算第一个坐标和第二个坐标之间的距离\n",
    "print(f\"Distance between {coordinates[0]} and {coordinates[1]}: {calculate_distance(coordinates[0], coordinates[1])}\")\n",
    "\n",
    "# 计算第二个坐标和第三个坐标之间的距离\n",
    "print(f\"Distance between {coordinates[1]} and {coordinates[2]}: {calculate_distance(coordinates[1], coordinates[2])}\")\n"
   ]
  },
  {
   "cell_type": "code",
   "execution_count": 52,
   "metadata": {},
   "outputs": [
    {
     "name": "stdout",
     "output_type": "stream",
     "text": [
      "{'C'}\n"
     ]
    }
   ],
   "source": [
    "'''\n",
    "1. 列表：查找共同经过的地点\n",
    "假设我们有多个用户，每个用户都有他们经过的地点列表，我们想要找出所有用户都经过的共同地点。\n",
    "'''\n",
    "def find_common_locations(user_locations):\n",
    "    \"\"\"\n",
    "    Find the common locations that exist in all users' location lists.\n",
    "\n",
    "    Parameters:\n",
    "    user_locations (dict): A dictionary where the keys are user ids and the values are lists of locations (as strings) that the users have visited.\n",
    "\n",
    "    Returns:\n",
    "    list: A list of common locations visited by all users.\n",
    "    \"\"\"\n",
    "    union_location = set()\n",
    "    location_user3 = set()\n",
    "    for user,location in user_locations.items():\n",
    "        if user != 'user3':\n",
    "            union_location.update(location)\n",
    "        else:\n",
    "            location_user3 = set(location)\n",
    "\n",
    "\n",
    "    return  location_user3.difference(union_location)\n",
    "\n",
    "     \n",
    "\n",
    "        \n",
    "\n",
    "# 测试数据\n",
    "user_locations = {\n",
    "    'user1': ['Central Park', 'Times Square', 'Grand Central Station','A'],\n",
    "    'user2': ['Central Park', 'The Statue of Liberty', 'B','Grand Central Station'],\n",
    "    'user3': [ 'Times Square', 'Grand Central Station', 'C', 'The Statue of Liberty'],\n",
    "    'user4': [ 'Times Square', 'Grand Central Station', 'D', 'The Statue of Liberty']\n",
    "}\n",
    "\n",
    "\n",
    "# 测试案例\n",
    "print(find_common_locations(user_locations))  # 应该返回 ['Central Park', 'Grand Central Station']\n"
   ]
  },
  {
   "cell_type": "code",
   "execution_count": null,
   "metadata": {},
   "outputs": [],
   "source": []
  }
 ],
 "metadata": {
  "kernelspec": {
   "display_name": "Python 3",
   "language": "python",
   "name": "python3"
  },
  "language_info": {
   "codemirror_mode": {
    "name": "ipython",
    "version": 3
   },
   "file_extension": ".py",
   "mimetype": "text/x-python",
   "name": "python",
   "nbconvert_exporter": "python",
   "pygments_lexer": "ipython3",
   "version": "3.9.6"
  }
 },
 "nbformat": 4,
 "nbformat_minor": 2
}
